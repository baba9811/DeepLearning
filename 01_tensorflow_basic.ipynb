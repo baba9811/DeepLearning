{
 "cells": [
  {
   "cell_type": "code",
   "execution_count": 1,
   "id": "3ad4f9bd",
   "metadata": {},
   "outputs": [],
   "source": [
    "import tensorflow as tf"
   ]
  },
  {
   "cell_type": "code",
   "execution_count": 31,
   "id": "dcec0ec0",
   "metadata": {},
   "outputs": [],
   "source": [
    "tensor = tf.constant([3.0, 4.0, 5.0],tf.float32) # tensor라는 자료형, list 형식\n",
    "tensor_2 = tf.constant([6.0,7.0,8.0]) # constant에는 텐서에 상수"
   ]
  },
  {
   "cell_type": "code",
   "execution_count": 30,
   "id": "ba056297",
   "metadata": {},
   "outputs": [],
   "source": [
    "# tf.cast() 함수를 사용하면 tensor의 자료형을 변환할 수 있음."
   ]
  },
  {
   "cell_type": "code",
   "execution_count": 27,
   "id": "63c17878",
   "metadata": {},
   "outputs": [],
   "source": [
    "tensor_3 = tf.constant([ [1, 2],\n",
    "                        [3, 4]]) # 2차원 행렬"
   ]
  },
  {
   "cell_type": "code",
   "execution_count": 28,
   "id": "bc6f8d9f",
   "metadata": {},
   "outputs": [
    {
     "name": "stdout",
     "output_type": "stream",
     "text": [
      "tf.Tensor([ 9. 11. 13.], shape=(3,), dtype=float32)\n"
     ]
    }
   ],
   "source": [
    "print(tensor + tensor_2)"
   ]
  },
  {
   "cell_type": "code",
   "execution_count": 22,
   "id": "e72dea1b",
   "metadata": {},
   "outputs": [
    {
     "name": "stdout",
     "output_type": "stream",
     "text": [
      "tf.Tensor([ 9 11 13], shape=(3,), dtype=int32)\n"
     ]
    }
   ],
   "source": [
    "print(tf.add(tensor, tensor_2))"
   ]
  },
  {
   "cell_type": "code",
   "execution_count": 20,
   "id": "5d23e069",
   "metadata": {},
   "outputs": [
    {
     "name": "stdout",
     "output_type": "stream",
     "text": [
      "tf.Tensor([3 4 5], shape=(3,), dtype=int32)\n"
     ]
    }
   ],
   "source": [
    "print(tensor)"
   ]
  },
  {
   "cell_type": "markdown",
   "id": "c7de2170",
   "metadata": {},
   "source": [
    "행렬개념을 사용하여 숫자 여러가지를 한번에 계산\n",
    "\n",
    "-> tensor에서 행렬개념을 사용할 수 있음"
   ]
  },
  {
   "cell_type": "code",
   "execution_count": 35,
   "id": "5e95da55",
   "metadata": {},
   "outputs": [],
   "source": [
    "w = tf.Variable(1.0) # w값을 나타낼 때 변경이 가능하도록 tf.Variable() 사용"
   ]
  },
  {
   "cell_type": "code",
   "execution_count": 36,
   "id": "4f005b1b",
   "metadata": {},
   "outputs": [
    {
     "name": "stdout",
     "output_type": "stream",
     "text": [
      "1.0\n"
     ]
    }
   ],
   "source": [
    "print(w.numpy())"
   ]
  },
  {
   "cell_type": "code",
   "execution_count": 37,
   "id": "5f89edb1",
   "metadata": {},
   "outputs": [
    {
     "data": {
      "text/plain": [
       "<tf.Variable 'UnreadVariable' shape=() dtype=float32, numpy=2.0>"
      ]
     },
     "execution_count": 37,
     "metadata": {},
     "output_type": "execute_result"
    }
   ],
   "source": [
    "# w.assign()을 통해 변수에 새로운 값 할당가능\n",
    "w.assign(2)"
   ]
  },
  {
   "cell_type": "code",
   "execution_count": 38,
   "id": "09768df4",
   "metadata": {},
   "outputs": [
    {
     "data": {
      "text/plain": [
       "<tf.Variable 'Variable:0' shape=() dtype=float32, numpy=2.0>"
      ]
     },
     "execution_count": 38,
     "metadata": {},
     "output_type": "execute_result"
    }
   ],
   "source": [
    "w"
   ]
  },
  {
   "cell_type": "code",
   "execution_count": null,
   "id": "deabed95",
   "metadata": {},
   "outputs": [],
   "source": []
  }
 ],
 "metadata": {
  "kernelspec": {
   "display_name": "Python 3 (ipykernel)",
   "language": "python",
   "name": "python3"
  },
  "language_info": {
   "codemirror_mode": {
    "name": "ipython",
    "version": 3
   },
   "file_extension": ".py",
   "mimetype": "text/x-python",
   "name": "python",
   "nbconvert_exporter": "python",
   "pygments_lexer": "ipython3",
   "version": "3.9.12"
  }
 },
 "nbformat": 4,
 "nbformat_minor": 5
}
